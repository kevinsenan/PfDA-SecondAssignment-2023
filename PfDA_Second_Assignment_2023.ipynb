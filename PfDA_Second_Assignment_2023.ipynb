{
 "cells": [
  {
   "cell_type": "markdown",
   "metadata": {},
   "source": [
    "# An analysis of paleo-present climate data"
   ]
  },
  {
   "cell_type": "code",
   "execution_count": null,
   "metadata": {},
   "outputs": [],
   "source": [
    "#importing standard libraries to use in the tasks\n",
    "#Numerical arrays and random numbers\n",
    "import numpy as np\n",
    "#plotting charts\n",
    "import matplotlib as plt\n",
    "#to use datasets\n",
    "import pandas as pd\n",
    "#for graphing\n",
    "import seaborn as sns"
   ]
  },
  {
   "cell_type": "markdown",
   "metadata": {},
   "source": []
  },
  {
   "cell_type": "code",
   "execution_count": null,
   "metadata": {},
   "outputs": [],
   "source": [
    "Penguins_Dataset = 'data\\penguins.csv'\n",
    "df = pd.read_csv(Penguins_Dataset)\n",
    "df"
   ]
  }
 ],
 "metadata": {
  "language_info": {
   "name": "python"
  }
 },
 "nbformat": 4,
 "nbformat_minor": 2
}
