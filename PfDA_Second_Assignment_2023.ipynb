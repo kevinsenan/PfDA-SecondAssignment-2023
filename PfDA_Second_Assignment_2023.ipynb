{
 "cells": [
  {
   "cell_type": "markdown",
   "metadata": {},
   "source": [
    "# An analysis of paleo-present climate data"
   ]
  },
  {
   "cell_type": "code",
   "execution_count": 1,
   "metadata": {},
   "outputs": [],
   "source": [
    "#importing standard libraries to use in the tasks\n",
    "#Numerical arrays and random numbers\n",
    "import numpy as np\n",
    "#plotting charts\n",
    "import matplotlib as plt\n",
    "#to use datasets\n",
    "import pandas as pd\n",
    "#for graphing\n",
    "import seaborn as sns"
   ]
  },
  {
   "cell_type": "markdown",
   "metadata": {},
   "source": []
  },
  {
   "cell_type": "code",
   "execution_count": 8,
   "metadata": {},
   "outputs": [
    {
     "name": "stdout",
     "output_type": "stream",
     "text": [
      "     Depth (m)  Gasage (EDC3, yr BP)  Gasage (AICC2012, yr BP)  CO2 (ppmv)  \\\n",
      "0       102.83                 137.0                350.110103       280.4   \n",
      "1       106.89                 268.0                486.693200       274.9   \n",
      "2       107.20                 279.0                501.195000       277.9   \n",
      "3       110.25                 395.0                539.649455       279.1   \n",
      "4       110.50                 404.0                539.894909       281.9   \n",
      "..         ...                   ...                       ...         ...   \n",
      "387        NaN                   NaN                       NaN         NaN   \n",
      "388        NaN                   NaN                       NaN         NaN   \n",
      "389        NaN                   NaN                       NaN         NaN   \n",
      "390        NaN                   NaN                       NaN         NaN   \n",
      "391        NaN                   NaN                       NaN         NaN   \n",
      "\n",
      "     sigma mean CO2 (ppmv)  Depth (m).1  Gasage (EDC3, yr BP).1  \\\n",
      "0                      1.8        149.1                  2690.0   \n",
      "1                      0.7        173.1                  3897.0   \n",
      "2                      0.7        177.4                  4124.0   \n",
      "3                      1.3        228.6                  6735.0   \n",
      "4                      1.1        250.3                  7873.0   \n",
      "..                     ...          ...                     ...   \n",
      "387                    NaN          NaN                     NaN   \n",
      "388                    NaN          NaN                     NaN   \n",
      "389                    NaN          NaN                     NaN   \n",
      "390                    NaN          NaN                     NaN   \n",
      "391                    NaN          NaN                     NaN   \n",
      "\n",
      "     Gasage (AICC2012, yr BP).1  CO2 (ppmv).1  Depth (m).2  ...  \\\n",
      "0                           NaN         284.7       380.82  ...   \n",
      "1                     3661.9285         272.7       382.42  ...   \n",
      "2                     3746.6270         268.1       382.76  ...   \n",
      "3                     6449.1760         262.2       383.54  ...   \n",
      "4                     7567.3510         254.5       385.33  ...   \n",
      "..                          ...           ...          ...  ...   \n",
      "387                         NaN           NaN          NaN  ...   \n",
      "388                         NaN           NaN          NaN  ...   \n",
      "389                         NaN           NaN          NaN  ...   \n",
      "390                         NaN           NaN          NaN  ...   \n",
      "391                         NaN           NaN          NaN  ...   \n",
      "\n",
      "     Gasage (WDC06A-7, yr BP).1  CO2 (ppmv).19  sigma mean CO2 (ppmv).16  \\\n",
      "0                      8893.213     267.902828                  3.369565   \n",
      "1                      8985.488     265.447325                  1.429392   \n",
      "2                      9080.986     268.861214                  1.418332   \n",
      "3                      9176.945     263.952432                  1.853741   \n",
      "4                      9274.864     270.597511                  3.848356   \n",
      "..                          ...            ...                       ...   \n",
      "387                         NaN            NaN                       NaN   \n",
      "388                         NaN            NaN                       NaN   \n",
      "389                         NaN            NaN                       NaN   \n",
      "390                         NaN            NaN                       NaN   \n",
      "391                         NaN            NaN                       NaN   \n",
      "\n",
      "     Depth (m).19  Gasage (AICC2012, yr BP).13  corrected CO2 (ppmv)  \\\n",
      "0     2950.527500                562654.671212            234.065089   \n",
      "1     2951.822500                563135.783333            240.114724   \n",
      "2     2952.922500                563536.650000            242.288114   \n",
      "3     2954.022500                563928.766667            245.694323   \n",
      "4     2955.122500                564311.433333            245.812943   \n",
      "..            ...                          ...                   ...   \n",
      "387   3193.414500                803925.284376            202.921723   \n",
      "388   3193.750500                804009.870607            207.498645   \n",
      "389   3195.787500                804522.674630            204.861938   \n",
      "390   3198.209667                805132.442334            202.226839   \n",
      "391   3200.340500                805668.868405            207.285440   \n",
      "\n",
      "     analytical sigma mean CO2 (ppmv)  Correcting Factor (ppmv)  \\\n",
      "0                            0.938515                  0.000000   \n",
      "1                            2.126252                  0.000000   \n",
      "2                            0.513847                  0.000000   \n",
      "3                            1.769919                  0.000000   \n",
      "4                            0.493195                  0.000000   \n",
      "..                                ...                       ...   \n",
      "387                          2.064488                  9.733185   \n",
      "388                          0.915083                  9.752717   \n",
      "389                          1.642851                  9.871127   \n",
      "390                          0.689587                 10.011928   \n",
      "391                          2.202808                 10.135793   \n",
      "\n",
      "     lower bound (2 sigma) of correction F. (ppmv)  \\\n",
      "0                                           0.0000   \n",
      "1                                           0.0000   \n",
      "2                                           0.0000   \n",
      "3                                           0.0000   \n",
      "4                                           0.0000   \n",
      "..                                             ...   \n",
      "387                                         7.4860   \n",
      "388                                         7.4971   \n",
      "389                                         7.5644   \n",
      "390                                         7.6441   \n",
      "391                                         7.7140   \n",
      "\n",
      "     upper bound (2 sigma) of correction F. (ppmv)  \n",
      "0                                          0.45076  \n",
      "1                                          0.49078  \n",
      "2                                          0.52478  \n",
      "3                                          0.55879  \n",
      "4                                          0.59281  \n",
      "..                                             ...  \n",
      "387                                       11.97000  \n",
      "388                                       11.99800  \n",
      "389                                       12.16700  \n",
      "390                                       12.36900  \n",
      "391                                       12.54700  \n",
      "\n",
      "[392 rows x 108 columns]\n"
     ]
    }
   ],
   "source": [
    "df_sheet_name = pd.read_excel('data/CO2 data.xlsx', sheet_name=1, skiprows=6)\n",
    "\n",
    "print(df_sheet_name)"
   ]
  },
  {
   "cell_type": "code",
   "execution_count": 10,
   "metadata": {},
   "outputs": [
    {
     "name": "stdout",
     "output_type": "stream",
     "text": [
      "      Gasage (yr BP)   CO2 (ppmv)  sigma mean CO2 (ppmv)\n",
      "0          -51.030000  368.022488               0.060442\n",
      "1          -48.000000  361.780737               0.370000\n",
      "2          -46.279272  359.647793               0.098000\n",
      "3          -44.405642  357.106740               0.159923\n",
      "4          -43.080000  353.946685               0.043007\n",
      "...               ...         ...                    ...\n",
      "1896    803925.284376  202.921723               2.064488\n",
      "1897    804009.870607  207.498645               0.915083\n",
      "1898    804522.674630  204.861938               1.642851\n",
      "1899    805132.442334  202.226839               0.689587\n",
      "1900    805668.868405  207.285440               2.202808\n",
      "\n",
      "[1901 rows x 3 columns]\n"
     ]
    }
   ],
   "source": [
    "df_sheet_name = pd.read_excel('data/CO2 data.xlsx', sheet_name=2, skiprows=14)\n",
    "\n",
    "print(df_sheet_name)"
   ]
  }
 ],
 "metadata": {
  "kernelspec": {
   "display_name": "base",
   "language": "python",
   "name": "python3"
  },
  "language_info": {
   "codemirror_mode": {
    "name": "ipython",
    "version": 3
   },
   "file_extension": ".py",
   "mimetype": "text/x-python",
   "name": "python",
   "nbconvert_exporter": "python",
   "pygments_lexer": "ipython3",
   "version": "3.9.13"
  }
 },
 "nbformat": 4,
 "nbformat_minor": 2
}
